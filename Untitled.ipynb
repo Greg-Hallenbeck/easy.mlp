{
 "cells": [
  {
   "cell_type": "code",
   "execution_count": 2,
   "metadata": {},
   "outputs": [
    {
     "name": "stderr",
     "output_type": "stream",
     "text": [
      "Loading required package: usethis\n",
      "\n"
     ]
    }
   ],
   "source": [
    "library(devtools)"
   ]
  },
  {
   "cell_type": "code",
   "execution_count": 3,
   "metadata": {},
   "outputs": [
    {
     "name": "stderr",
     "output_type": "stream",
     "text": [
      "\u001b[32m✔\u001b[39m Setting active project to \u001b[34m'/home/idies/workspace/Storage/ghallenbeck/persistent/Perceptron/easy.mlp'\u001b[39m\n",
      "\n"
     ]
    }
   ],
   "source": [
    "proj_set(\".\")"
   ]
  },
  {
   "cell_type": "code",
   "execution_count": 6,
   "metadata": {},
   "outputs": [
    {
     "name": "stderr",
     "output_type": "stream",
     "text": [
      "\u001b[32m✔\u001b[39m Writing \u001b[34m'README.Rmd'\u001b[39m\n",
      "\n",
      "\u001b[32m✔\u001b[39m Adding \u001b[34m'^README\\\\.Rmd$'\u001b[39m to \u001b[34m'.Rbuildignore'\u001b[39m\n",
      "\n"
     ]
    }
   ],
   "source": [
    "use_readme_rmd()"
   ]
  },
  {
   "cell_type": "code",
   "execution_count": null,
   "metadata": {},
   "outputs": [],
   "source": []
  }
 ],
 "metadata": {
  "kernelspec": {
   "display_name": "R 3.6.2",
   "language": "R",
   "name": "ir"
  },
  "language_info": {
   "codemirror_mode": "r",
   "file_extension": ".r",
   "mimetype": "text/x-r-source",
   "name": "R",
   "pygments_lexer": "r",
   "version": "3.6.2"
  }
 },
 "nbformat": 4,
 "nbformat_minor": 4
}
