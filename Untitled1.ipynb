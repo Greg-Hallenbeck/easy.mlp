{
 "cells": [
  {
   "cell_type": "code",
   "execution_count": 2,
   "metadata": {},
   "outputs": [
    {
     "name": "stderr",
     "output_type": "stream",
     "text": [
      "Loading required package: usethis\n",
      "\n"
     ]
    }
   ],
   "source": [
    "library(devtools)"
   ]
  },
  {
   "cell_type": "code",
   "execution_count": 3,
   "metadata": {},
   "outputs": [
    {
     "name": "stderr",
     "output_type": "stream",
     "text": [
      "\u001b[32m✔\u001b[39m Setting active project to \u001b[34m'/home/idies/workspace/Storage/ghallenbeck/persistent/Perceptron/easy.mlp'\u001b[39m\n",
      "\n",
      "\u001b[32m✔\u001b[39m Adding \u001b[34m'.Rproj.user'\u001b[39m, \u001b[34m'.Rhistory'\u001b[39m, \u001b[34m'.Rdata'\u001b[39m, \u001b[34m'.httr-oauth'\u001b[39m, \u001b[34m'.DS_Store'\u001b[39m to \u001b[34m'.gitignore'\u001b[39m\n",
      "\n"
     ]
    }
   ],
   "source": [
    "use_git()"
   ]
  },
  {
   "cell_type": "code",
   "execution_count": 19,
   "metadata": {},
   "outputs": [],
   "source": [
    "library(knitr)"
   ]
  },
  {
   "cell_type": "code",
   "execution_count": 18,
   "metadata": {},
   "outputs": [
    {
     "name": "stderr",
     "output_type": "stream",
     "text": [
      "\n",
      "\n",
      "processing file: README.Rmd\n",
      "\n"
     ]
    },
    {
     "name": "stdout",
     "output_type": "stream",
     "text": [
      "  |........                                                              |  11%\n",
      "  ordinary text without R code\n",
      "\n",
      "  |................                                                      |  22%\n",
      "label: unnamed-chunk-1 (with options) \n",
      "List of 1\n",
      " $ include: logi FALSE\n",
      "\n",
      "  |.......................                                               |  33%\n",
      "  ordinary text without R code\n",
      "\n",
      "  |...............................                                       |  44%\n",
      "label: example\n",
      "  |.......................................                               |  56%\n",
      "  ordinary text without R code\n",
      "\n",
      "  |...............................................                       |  67%\n",
      "label: cars\n",
      "  |......................................................                |  78%\n",
      "  ordinary text without R code\n",
      "\n",
      "  |..............................................................        |  89%\n",
      "label: pressure (with options) \n",
      "List of 1\n",
      " $ echo: logi FALSE\n",
      "\n",
      "  |......................................................................| 100%\n",
      "  ordinary text without R code\n",
      "\n",
      "\n"
     ]
    },
    {
     "name": "stderr",
     "output_type": "stream",
     "text": [
      "output file: README.md\n",
      "\n",
      "\n"
     ]
    },
    {
     "data": {
      "text/html": [
       "'README.md'"
      ],
      "text/latex": [
       "'README.md'"
      ],
      "text/markdown": [
       "'README.md'"
      ],
      "text/plain": [
       "[1] \"README.md\""
      ]
     },
     "metadata": {},
     "output_type": "display_data"
    }
   ],
   "source": [
    "knit(\"README.Rmd\", \"README.md\")"
   ]
  },
  {
   "cell_type": "code",
   "execution_count": 10,
   "metadata": {},
   "outputs": [],
   "source": [
    "source(\"R/create.mlp.R\")"
   ]
  },
  {
   "cell_type": "code",
   "execution_count": 11,
   "metadata": {},
   "outputs": [
    {
     "ename": "ERROR",
     "evalue": "Error in split.dataset(network$formula, data): could not find function \"split.dataset\"\n",
     "output_type": "error",
     "traceback": [
      "Error in split.dataset(network$formula, data): could not find function \"split.dataset\"\nTraceback:\n",
      "1. create.mlp(Species ~ ., data = iris, hidden = c(5, 5, 5))"
     ]
    }
   ],
   "source": [
    "data(iris)\n",
    "\n",
    "network <- create.mlp(Species ~ ., data=iris, hidden=c(5,5,5))"
   ]
  },
  {
   "cell_type": "code",
   "execution_count": 8,
   "metadata": {},
   "outputs": [
    {
     "name": "stderr",
     "output_type": "stream",
     "text": [
      "\n",
      "\n",
      "processing file: README.Rmd\n",
      "\n"
     ]
    },
    {
     "name": "stdout",
     "output_type": "stream",
     "text": [
      "  |........                                                              |  11%\n",
      "  ordinary text without R code\n",
      "\n",
      "  |................                                                      |  22%\n",
      "label: unnamed-chunk-1 (with options) \n",
      "List of 1\n",
      " $ include: logi FALSE\n",
      "\n",
      "  |.......................                                               |  33%\n",
      "  ordinary text without R code\n",
      "\n",
      "  |...............................                                       |  44%\n",
      "label: example\n",
      "  |.......................................                               |  56%\n",
      "  ordinary text without R code\n",
      "\n",
      "  |...............................................                       |  67%\n",
      "label: cars\n",
      "  |......................................................                |  78%\n",
      "  ordinary text without R code\n",
      "\n",
      "  |..............................................................        |  89%\n",
      "label: pressure (with options) \n",
      "List of 1\n",
      " $ echo: logi FALSE\n",
      "\n",
      "  |......................................................................| 100%\n",
      "  ordinary text without R code\n",
      "\n",
      "\n"
     ]
    },
    {
     "name": "stderr",
     "output_type": "stream",
     "text": [
      "output file: README.md\n",
      "\n",
      "\n"
     ]
    },
    {
     "data": {
      "text/html": [
       "'README.md'"
      ],
      "text/latex": [
       "'README.md'"
      ],
      "text/markdown": [
       "'README.md'"
      ],
      "text/plain": [
       "[1] \"README.md\""
      ]
     },
     "metadata": {},
     "output_type": "display_data"
    }
   ],
   "source": [
    "knit(\"README.Rmd\", \"README.md\")"
   ]
  },
  {
   "cell_type": "code",
   "execution_count": 7,
   "metadata": {},
   "outputs": [
    {
     "data": {
      "image/png": "[encoded data removed]",
      "text/plain": [
       "plot without title"
      ]
     },
     "metadata": {
      "image/png": {
       "height": 420,
       "width": 420
      },
      "text/plain": {
       "height": 420,
       "width": 420
      }
     },
     "output_type": "display_data"
    }
   ],
   "source": [
    "plot(pressure)"
   ]
  },
  {
   "cell_type": "code",
   "execution_count": null,
   "metadata": {},
   "outputs": [],
   "source": []
  }
 ],
 "metadata": {
  "kernelspec": {
   "display_name": "R 3.6.2",
   "language": "R",
   "name": "ir"
  },
  "language_info": {
   "codemirror_mode": "r",
   "file_extension": ".r",
   "mimetype": "text/x-r-source",
   "name": "R",
   "pygments_lexer": "r",
   "version": "3.6.2"
  }
 },
 "nbformat": 4,
 "nbformat_minor": 4
}
