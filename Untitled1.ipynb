{
 "cells": [
  {
   "cell_type": "code",
   "execution_count": 2,
   "metadata": {},
   "outputs": [
    {
     "name": "stderr",
     "output_type": "stream",
     "text": [
      "Loading required package: usethis\n",
      "\n"
     ]
    }
   ],
   "source": [
    "library(devtools)"
   ]
  },
  {
   "cell_type": "code",
   "execution_count": 3,
   "metadata": {},
   "outputs": [
    {
     "name": "stderr",
     "output_type": "stream",
     "text": [
      "\u001b[32m✔\u001b[39m Setting active project to \u001b[34m'/home/idies/workspace/Storage/ghallenbeck/persistent/Perceptron/easy.mlp'\u001b[39m\n",
      "\n",
      "\u001b[32m✔\u001b[39m Adding \u001b[34m'.Rproj.user'\u001b[39m, \u001b[34m'.Rhistory'\u001b[39m, \u001b[34m'.Rdata'\u001b[39m, \u001b[34m'.httr-oauth'\u001b[39m, \u001b[34m'.DS_Store'\u001b[39m to \u001b[34m'.gitignore'\u001b[39m\n",
      "\n"
     ]
    }
   ],
   "source": [
    "use_git()"
   ]
  },
  {
   "cell_type": "code",
   "execution_count": 4,
   "metadata": {},
   "outputs": [],
   "source": [
    "library(knitr)"
   ]
  },
  {
   "cell_type": "code",
   "execution_count": 5,
   "metadata": {},
   "outputs": [
    {
     "ename": "ERROR",
     "evalue": "Error in render(\"README.Rmd\"): could not find function \"render\"\n",
     "output_type": "error",
     "traceback": [
      "Error in render(\"README.Rmd\"): could not find function \"render\"\nTraceback:\n"
     ]
    }
   ],
   "source": [
    "render(\"README.Rmd\")"
   ]
  },
  {
   "cell_type": "code",
   "execution_count": null,
   "metadata": {},
   "outputs": [],
   "source": []
  }
 ],
 "metadata": {
  "kernelspec": {
   "display_name": "R 3.6.2",
   "language": "R",
   "name": "ir"
  },
  "language_info": {
   "codemirror_mode": "r",
   "file_extension": ".r",
   "mimetype": "text/x-r-source",
   "name": "R",
   "pygments_lexer": "r",
   "version": "3.6.2"
  }
 },
 "nbformat": 4,
 "nbformat_minor": 4
}
