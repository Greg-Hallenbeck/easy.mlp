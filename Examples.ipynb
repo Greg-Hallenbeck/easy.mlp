{
 "cells": [
  {
   "cell_type": "code",
   "execution_count": 5,
   "metadata": {},
   "outputs": [
    {
     "name": "stderr",
     "output_type": "stream",
     "text": [
      "Loading required package: usethis\n",
      "\n"
     ]
    }
   ],
   "source": [
    "library(devtools)"
   ]
  },
  {
   "cell_type": "code",
   "execution_count": 6,
   "metadata": {},
   "outputs": [
    {
     "data": {
      "text/html": [
       "\n",
       "<table width=\"100%\" summary=\"page for test {devtools}\"><tr><td>test {devtools}</td><td style=\"text-align: right;\">R Documentation</td></tr></table>\n",
       "\n",
       "<h2>Execute <span class=\"pkg\">test_that</span> tests in a package.</h2>\n",
       "\n",
       "<h3>Description</h3>\n",
       "\n",
       "<p><code>test()</code> is a shortcut for <code>testthat::test_dir()</code>, it runs all of a\n",
       "package's tests.\n",
       "<code>test_file</code> runs <code>test()</code> on the active file.\n",
       "<code>test_coverage()</code> computes test coverage for your package. It is a shortcut\n",
       "for <code>covr::package_coverage()</code> and <code>covr::report()</code>.\n",
       "<code>test_coverage_file()</code> computes test coverage for the active file. Is a\n",
       "shortcut for <code>covr::file_coverage()</code> and <code>covr::report()</code>.\n",
       "</p>\n",
       "\n",
       "\n",
       "<h3>Usage</h3>\n",
       "\n",
       "<pre>\n",
       "test(pkg = \".\", filter = NULL, stop_on_failure = FALSE, export_all = TRUE, ...)\n",
       "\n",
       "test_coverage(pkg = \".\", show_report = interactive(), ...)\n",
       "\n",
       "uses_testthat(pkg = \".\")\n",
       "\n",
       "test_file(file = find_active_file(), ...)\n",
       "\n",
       "test_coverage_file(\n",
       "  file = find_active_file(),\n",
       "  filter = TRUE,\n",
       "  show_report = interactive(),\n",
       "  export_all = TRUE,\n",
       "  ...\n",
       ")\n",
       "</pre>\n",
       "\n",
       "\n",
       "<h3>Arguments</h3>\n",
       "\n",
       "<table summary=\"R argblock\">\n",
       "<tr valign=\"top\"><td><code>pkg</code></td>\n",
       "<td>\n",
       "<p>The package to use, can be a file path to the package or a\n",
       "package object.  See <code>as.package()</code> for more information.</p>\n",
       "</td></tr>\n",
       "<tr valign=\"top\"><td><code>filter</code></td>\n",
       "<td>\n",
       "<p>If not <code>NULL</code>, only tests with file names matching this\n",
       "regular expression will be executed. Matching be performed on the file\n",
       "name after it has been stripped of <code>\"test-\"</code> and <code>\".R\"</code>.</p>\n",
       "</td></tr>\n",
       "<tr valign=\"top\"><td><code>stop_on_failure</code></td>\n",
       "<td>\n",
       "<p>If <code>TRUE</code>, throw an error if any tests fail.\n",
       "</p>\n",
       "<p>For historical reasons, the default value of <code>stop_on_failure</code> is <code>TRUE</code>\n",
       "for  <code>test_package()</code> and <code>test_check()</code> but <code>FALSE</code> for <code>test_dir()</code>, so\n",
       "if you're calling <code>test_dir()</code> you may want to consider explicitly setting\n",
       "<code>stop_on_failure = TRUE</code>.</p>\n",
       "</td></tr>\n",
       "<tr valign=\"top\"><td><code>export_all</code></td>\n",
       "<td>\n",
       "<p>If <code>TRUE</code> (the default), export all objects.\n",
       "If <code>FALSE</code>, export only the objects that are listed as exports\n",
       "in the NAMESPACE file.</p>\n",
       "</td></tr>\n",
       "<tr valign=\"top\"><td><code>...</code></td>\n",
       "<td>\n",
       "<p>additional arguments passed to <code>testthat::test_dir()</code> and\n",
       "<code>covr::package_coverage()</code></p>\n",
       "</td></tr>\n",
       "<tr valign=\"top\"><td><code>show_report</code></td>\n",
       "<td>\n",
       "<p>Show the test coverage report.</p>\n",
       "</td></tr>\n",
       "<tr valign=\"top\"><td><code>file</code></td>\n",
       "<td>\n",
       "<p>One or more source or test files. If a source file the\n",
       "corresponding test file will be run. The default is to use the active file\n",
       "in RStudio (if available).</p>\n",
       "</td></tr>\n",
       "</table>\n",
       "\n",
       "<hr /><div style=\"text-align: center;\">[Package <em>devtools</em> version 2.3.2 ]</div>"
      ],
      "text/latex": [
       "\\inputencoding{utf8}\n",
       "\\HeaderA{test}{Execute \\pkg{test\\_that} tests in a package.}{test}\n",
       "\\aliasA{test\\_coverage}{test}{test.Rul.coverage}\n",
       "\\aliasA{test\\_coverage\\_file}{test}{test.Rul.coverage.Rul.file}\n",
       "\\aliasA{test\\_file}{test}{test.Rul.file}\n",
       "\\aliasA{uses\\_testthat}{test}{uses.Rul.testthat}\n",
       "%\n",
       "\\begin{Description}\\relax\n",
       "\\code{test()} is a shortcut for \\code{\\LinkA{testthat::test\\_dir()}{testthat::test.Rul.dir()}}, it runs all of a\n",
       "package's tests.\n",
       "\\code{test\\_file} runs \\code{test()} on the active file.\n",
       "\\code{test\\_coverage()} computes test coverage for your package. It is a shortcut\n",
       "for \\code{\\LinkA{covr::package\\_coverage()}{covr::package.Rul.coverage()}} and \\code{\\LinkA{covr::report()}{covr::report()}}.\n",
       "\\code{test\\_coverage\\_file()} computes test coverage for the active file. Is a\n",
       "shortcut for \\code{\\LinkA{covr::file\\_coverage()}{covr::file.Rul.coverage()}} and \\code{\\LinkA{covr::report()}{covr::report()}}.\n",
       "\\end{Description}\n",
       "%\n",
       "\\begin{Usage}\n",
       "\\begin{verbatim}\n",
       "test(pkg = \".\", filter = NULL, stop_on_failure = FALSE, export_all = TRUE, ...)\n",
       "\n",
       "test_coverage(pkg = \".\", show_report = interactive(), ...)\n",
       "\n",
       "uses_testthat(pkg = \".\")\n",
       "\n",
       "test_file(file = find_active_file(), ...)\n",
       "\n",
       "test_coverage_file(\n",
       "  file = find_active_file(),\n",
       "  filter = TRUE,\n",
       "  show_report = interactive(),\n",
       "  export_all = TRUE,\n",
       "  ...\n",
       ")\n",
       "\\end{verbatim}\n",
       "\\end{Usage}\n",
       "%\n",
       "\\begin{Arguments}\n",
       "\\begin{ldescription}\n",
       "\\item[\\code{pkg}] The package to use, can be a file path to the package or a\n",
       "package object.  See \\code{\\LinkA{as.package()}{as.package}} for more information.\n",
       "\n",
       "\\item[\\code{filter}] If not \\code{NULL}, only tests with file names matching this\n",
       "regular expression will be executed. Matching be performed on the file\n",
       "name after it has been stripped of \\code{\"test-\"} and \\code{\".R\"}.\n",
       "\n",
       "\\item[\\code{stop\\_on\\_failure}] If \\code{TRUE}, throw an error if any tests fail.\n",
       "\n",
       "For historical reasons, the default value of \\code{stop\\_on\\_failure} is \\code{TRUE}\n",
       "for  \\code{test\\_package()} and \\code{test\\_check()} but \\code{FALSE} for \\code{test\\_dir()}, so\n",
       "if you're calling \\code{test\\_dir()} you may want to consider explicitly setting\n",
       "\\code{stop\\_on\\_failure = TRUE}.\n",
       "\n",
       "\\item[\\code{export\\_all}] If \\code{TRUE} (the default), export all objects.\n",
       "If \\code{FALSE}, export only the objects that are listed as exports\n",
       "in the NAMESPACE file.\n",
       "\n",
       "\\item[\\code{...}] additional arguments passed to \\code{\\LinkA{testthat::test\\_dir()}{testthat::test.Rul.dir()}} and\n",
       "\\code{\\LinkA{covr::package\\_coverage()}{covr::package.Rul.coverage()}}\n",
       "\n",
       "\\item[\\code{show\\_report}] Show the test coverage report.\n",
       "\n",
       "\\item[\\code{file}] One or more source or test files. If a source file the\n",
       "corresponding test file will be run. The default is to use the active file\n",
       "in RStudio (if available).\n",
       "\\end{ldescription}\n",
       "\\end{Arguments}"
      ],
      "text/plain": [
       "test                 package:devtools                  R Documentation\n",
       "\n",
       "_\bE_\bx_\be_\bc_\bu_\bt_\be '_\bt_\be_\bs_\bt__\bt_\bh_\ba_\bt' _\bt_\be_\bs_\bt_\bs _\bi_\bn _\ba _\bp_\ba_\bc_\bk_\ba_\bg_\be.\n",
       "\n",
       "_\bD_\be_\bs_\bc_\br_\bi_\bp_\bt_\bi_\bo_\bn:\n",
       "\n",
       "     ‘test()’ is a shortcut for ‘testthat::test_dir()’, it runs all of\n",
       "     a package's tests. ‘test_file’ runs ‘test()’ on the active file.\n",
       "     ‘test_coverage()’ computes test coverage for your package. It is a\n",
       "     shortcut for ‘covr::package_coverage()’ and ‘covr::report()’.\n",
       "     ‘test_coverage_file()’ computes test coverage for the active file.\n",
       "     Is a shortcut for ‘covr::file_coverage()’ and ‘covr::report()’.\n",
       "\n",
       "_\bU_\bs_\ba_\bg_\be:\n",
       "\n",
       "     test(pkg = \".\", filter = NULL, stop_on_failure = FALSE, export_all = TRUE, ...)\n",
       "     \n",
       "     test_coverage(pkg = \".\", show_report = interactive(), ...)\n",
       "     \n",
       "     uses_testthat(pkg = \".\")\n",
       "     \n",
       "     test_file(file = find_active_file(), ...)\n",
       "     \n",
       "     test_coverage_file(\n",
       "       file = find_active_file(),\n",
       "       filter = TRUE,\n",
       "       show_report = interactive(),\n",
       "       export_all = TRUE,\n",
       "       ...\n",
       "     )\n",
       "     \n",
       "_\bA_\br_\bg_\bu_\bm_\be_\bn_\bt_\bs:\n",
       "\n",
       "     pkg: The package to use, can be a file path to the package or a\n",
       "          package object.  See ‘as.package()’ for more information.\n",
       "\n",
       "  filter: If not ‘NULL’, only tests with file names matching this\n",
       "          regular expression will be executed. Matching be performed on\n",
       "          the file name after it has been stripped of ‘\"test-\"’ and\n",
       "          ‘\".R\"’.\n",
       "\n",
       "stop_on_failure: If ‘TRUE’, throw an error if any tests fail.\n",
       "\n",
       "          For historical reasons, the default value of\n",
       "          ‘stop_on_failure’ is ‘TRUE’ for ‘test_package()’ and\n",
       "          ‘test_check()’ but ‘FALSE’ for ‘test_dir()’, so if you're\n",
       "          calling ‘test_dir()’ you may want to consider explicitly\n",
       "          setting ‘stop_on_failure = TRUE’.\n",
       "\n",
       "export_all: If ‘TRUE’ (the default), export all objects. If ‘FALSE’,\n",
       "          export only the objects that are listed as exports in the\n",
       "          NAMESPACE file.\n",
       "\n",
       "     ...: additional arguments passed to ‘testthat::test_dir()’ and\n",
       "          ‘covr::package_coverage()’\n",
       "\n",
       "show_report: Show the test coverage report.\n",
       "\n",
       "    file: One or more source or test files. If a source file the\n",
       "          corresponding test file will be run. The default is to use\n",
       "          the active file in RStudio (if available).\n"
      ]
     },
     "metadata": {},
     "output_type": "display_data"
    }
   ],
   "source": [
    "?test"
   ]
  },
  {
   "cell_type": "code",
   "execution_count": 8,
   "metadata": {},
   "outputs": [
    {
     "name": "stderr",
     "output_type": "stream",
     "text": [
      "Warning message in library(easy.mlp, verbose = TRUE):\n",
      "“package ‘easy.mlp’ already present in search()”\n"
     ]
    }
   ],
   "source": [
    "library(easy.mlp, verbose=TRUE)"
   ]
  },
  {
   "cell_type": "code",
   "execution_count": 2,
   "metadata": {},
   "outputs": [],
   "source": [
    "data(iris)"
   ]
  },
  {
   "cell_type": "code",
   "execution_count": 3,
   "metadata": {},
   "outputs": [
    {
     "ename": "ERROR",
     "evalue": "Error in create.mlp(Species ~ ., data = iris, hidden = c(5, 5, 5), type = \"classification\"): could not find function \"create.mlp\"\n",
     "output_type": "error",
     "traceback": [
      "Error in create.mlp(Species ~ ., data = iris, hidden = c(5, 5, 5), type = \"classification\"): could not find function \"create.mlp\"\nTraceback:\n"
     ]
    }
   ],
   "source": [
    "net <- create.mlp(Species ~ ., data=iris, hidden=c(5,5,5), type=\"classification\")"
   ]
  },
  {
   "cell_type": "code",
   "execution_count": 4,
   "metadata": {},
   "outputs": [
    {
     "data": {
      "text/html": [],
      "text/latex": [],
      "text/markdown": [],
      "text/plain": [
       "character(0)"
      ]
     },
     "metadata": {},
     "output_type": "display_data"
    }
   ],
   "source": [
    "ls(\"package:easy.mlp\")"
   ]
  },
  {
   "cell_type": "code",
   "execution_count": null,
   "metadata": {},
   "outputs": [],
   "source": []
  }
 ],
 "metadata": {
  "kernelspec": {
   "display_name": "R 3.6.2",
   "language": "R",
   "name": "ir"
  },
  "language_info": {
   "codemirror_mode": "r",
   "file_extension": ".r",
   "mimetype": "text/x-r-source",
   "name": "R",
   "pygments_lexer": "r",
   "version": "3.6.2"
  }
 },
 "nbformat": 4,
 "nbformat_minor": 4
}
